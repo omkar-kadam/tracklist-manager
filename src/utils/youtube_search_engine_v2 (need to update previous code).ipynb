{
 "cells": [
  {
   "cell_type": "code",
   "execution_count": 12,
   "metadata": {},
   "outputs": [
    {
     "name": "stdout",
     "output_type": "stream",
     "text": [
      "-nLnkXuYKT4\n"
     ]
    }
   ],
   "source": [
    "from selenium import webdriver\n",
    "from selenium.webdriver.common.keys import Keys\n",
    "from selenium.webdriver.chrome.options import Options\n",
    "import time\n",
    "import html\n",
    "from bs4 import BeautifulSoup\n",
    "from urllib.parse import quote\n",
    "\n",
    "\n",
    "class BypassedSearch(object):\n",
    "    \n",
    "    def __init__(self):\n",
    "        options = Options()\n",
    "        options.add_argument('--headless')\n",
    "        options.add_argument('--incognito')\n",
    "        self.driver = webdriver.Chrome(options=options)\n",
    "\n",
    "    def searchUsingScraper(self, name):\n",
    "        trackName = quote(name)\n",
    "\n",
    "        if trackName:\n",
    "            url = 'https://www.youtube.com/results?search_query='\n",
    "            generatedURL = url+trackName\n",
    "            self.driver.get(generatedURL)\n",
    "            time.sleep(3)\n",
    "            divs = self.driver.find_element_by_xpath(\"//body/ytd-app/div[@id='content']/ytd-page-manager[@id='page-manager']/ytd-search[@class='style-scope ytd-page-manager']/div[@id='container']/ytd-two-column-search-results-renderer[@class='style-scope ytd-search']/div[@id='primary']/ytd-section-list-renderer[@class='style-scope ytd-two-column-search-results-renderer']/div[@id='contents']/ytd-item-section-renderer[@class='style-scope ytd-section-list-renderer']/div[3]\")\n",
    "            content = self.driver.execute_script(\"return arguments[0].innerHTML;\",divs)\n",
    "        else:\n",
    "            print(\"URL not Generated\")\n",
    "\n",
    "            return \"Failed To Generate URL\"\n",
    "        \n",
    "        page = BeautifulSoup(content, 'html5lib')\n",
    "        atags = page.findAll('a', attrs={'id': 'video-title'})\n",
    "        \n",
    "        videoLibrary = []\n",
    "        cleanId = ''\n",
    "\n",
    "        for eachTag in atags:\n",
    "            if eachTag.get('href') != '' and '&list=' not in eachTag.get('href'):\n",
    "                filteredTags = {}\n",
    "                if '=' in eachTag.get('href'):  # Filtering out channels from the search\n",
    "                    filteredTags['Name'] = eachTag.get('title')\n",
    "                    cleanId = eachTag.get('href')\n",
    "                    cleanId = cleanId.split(\"=\")\n",
    "                    filteredTags['VideoUrl'] = cleanId[1]\n",
    "                    videoLibrary.append(filteredTags)\n",
    "                    \n",
    "        actualMatch = [] \n",
    "        relativeMatch = []\n",
    "\n",
    "        for each in videoLibrary: # Title Matching\n",
    "            if html.unescape(each['Name'].lower()) == name.lower():\n",
    "                actualMatch.append(each['VideoUrl'])\n",
    "            else:\n",
    "                relativeMatch.append(each['VideoUrl'])\n",
    "\n",
    "        if actualMatch:\n",
    "            return actualMatch[0]  # return videoId from Here\n",
    "        elif relativeMatch:\n",
    "            return relativeMatch[0]  # return videoId from Here\n",
    "        else:\n",
    "            return \"Video Not Found\"\n",
    "\n",
    "byps = BypassedSearch()\n",
    "ur = byps.searchUsingScraper('Tale of Us - Vinewood Blues')\n",
    "print(ur)"
   ]
  },
  {
   "cell_type": "code",
   "execution_count": null,
   "metadata": {},
   "outputs": [],
   "source": []
  }
 ],
 "metadata": {
  "kernelspec": {
   "display_name": "Python 3",
   "language": "python",
   "name": "python3"
  },
  "language_info": {
   "codemirror_mode": {
    "name": "ipython",
    "version": 3
   },
   "file_extension": ".py",
   "mimetype": "text/x-python",
   "name": "python",
   "nbconvert_exporter": "python",
   "pygments_lexer": "ipython3",
   "version": "3.7.3"
  }
 },
 "nbformat": 4,
 "nbformat_minor": 2
}
